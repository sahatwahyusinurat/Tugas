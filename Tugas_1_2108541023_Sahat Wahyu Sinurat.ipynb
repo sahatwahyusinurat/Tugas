{
 "cells": [
  {
   "cell_type": "markdown",
   "id": "0a60ba01",
   "metadata": {},
   "source": [
    "5.1 PRINT"
   ]
  },
  {
   "cell_type": "code",
   "execution_count": 1,
   "id": "3647dca7",
   "metadata": {},
   "outputs": [
    {
     "name": "stdout",
     "output_type": "stream",
     "text": [
      "ini kelas Algoritma\n"
     ]
    }
   ],
   "source": [
    "print('ini kelas integral')"
   ]
  },
  {
   "cell_type": "code",
   "execution_count": null,
   "id": "e5bcb7ba",
   "metadata": {},
   "outputs": [],
   "source": [
    "print(\"ini kelas Integral\")"
   ]
  },
  {
   "cell_type": "code",
   "execution_count": null,
   "id": "6b1704cc",
   "metadata": {},
   "outputs": [],
   "source": [
    "print(\"star don't shine without darkness\")"
   ]
  },
  {
   "cell_type": "code",
   "execution_count": 2,
   "id": "6c5044ee",
   "metadata": {},
   "outputs": [
    {
     "ename": "SyntaxError",
     "evalue": "invalid syntax (Temp/ipykernel_10920/895240873.py, line 1)",
     "output_type": "error",
     "traceback": [
      "\u001b[1;36m  File \u001b[1;32m\"C:\\Users\\WAHYUS~1\\AppData\\Local\\Temp/ipykernel_10920/895240873.py\"\u001b[1;36m, line \u001b[1;32m1\u001b[0m\n\u001b[1;33m    print('star don't shine without darkness')\u001b[0m\n\u001b[1;37m                    ^\u001b[0m\n\u001b[1;31mSyntaxError\u001b[0m\u001b[1;31m:\u001b[0m invalid syntax\n"
     ]
    }
   ],
   "source": [
    "print('star don't shine without darkness')"
   ]
  },
  {
   "cell_type": "code",
   "execution_count": null,
   "id": "60b3af08",
   "metadata": {},
   "outputs": [],
   "source": [
    "print('He is such a \"RICH\"')"
   ]
  },
  {
   "cell_type": "code",
   "execution_count": null,
   "id": "d59aad6c",
   "metadata": {},
   "outputs": [],
   "source": [
    "print(\"He is such a \"Rich\"\")"
   ]
  },
  {
   "cell_type": "code",
   "execution_count": null,
   "id": "6e3f1805",
   "metadata": {},
   "outputs": [],
   "source": [
    "pelajar = 23\n",
    "uang_di_tabungan = 1000000\n",
    "print(pelajar)\n",
    "print(uang_di_tabungan)\n",
    "print(pelajar*uang_di_tabungan)"
   ]
  },
  {
   "cell_type": "code",
   "execution_count": null,
   "id": "de502098",
   "metadata": {},
   "outputs": [],
   "source": [
    "nama_depan = 'Sahat'\n",
    "nama_tengah = 'Wahyu'\n",
    "nama_belakang = 'Sinurat'\n",
    "print(nama_depan + nama_tengah + nama_belakang)"
   ]
  },
  {
   "cell_type": "markdown",
   "id": "c7f1e8b6",
   "metadata": {},
   "source": [
    "5.2 INPUT"
   ]
  },
  {
   "cell_type": "code",
   "execution_count": null,
   "id": "61f523f3",
   "metadata": {},
   "outputs": [],
   "source": [
    "nama = input(\"siapakah nama anda? \")\n",
    "pekerjaan = input('apakah kegiatan anda sekarang, ' + nama +\"? \")\n",
    "print(\"semangat \"+ kegiatan +\" nya yah, \" + nama + \"!\")"
   ]
  },
  {
   "cell_type": "markdown",
   "id": "55e07c58",
   "metadata": {},
   "source": [
    "5.3 TYPE DATA DAN PYTHON "
   ]
  },
  {
   "cell_type": "code",
   "execution_count": null,
   "id": "c810c51f",
   "metadata": {},
   "outputs": [],
   "source": [
    "uang_di_dompet = input(\"Berapakah jumlah uang di dompet anda? \")\n",
    "uang_di_bank = input(\"Berapakah jumlah uang anda di bank? \")\n",
    "print(\"Total uang anda adalah Rp \" + uang_di_dompet + uang_di_bank)"
   ]
  },
  {
   "cell_type": "code",
   "execution_count": null,
   "id": "63ec9c35",
   "metadata": {},
   "outputs": [],
   "source": [
    "uang_di_dompet = input(\"Berapakah jumlah uang di dompet anda? \")\n",
    "uang_di_bank = input(\"Berapakah jumlah uang anda di bank? \")\n",
    "total_uang = int(uang_di_dompet) + int(uang_di_bank)\n",
    "print(\"Total uang anda adalah Rp \"+ str(total_uang))"
   ]
  },
  {
   "cell_type": "code",
   "execution_count": null,
   "id": "f6a9bbe0",
   "metadata": {},
   "outputs": [],
   "source": [
    "type(uang_di_dompet)"
   ]
  },
  {
   "cell_type": "code",
   "execution_count": null,
   "id": "3a782468",
   "metadata": {},
   "outputs": [],
   "source": [
    "type(uang_di_bank)"
   ]
  },
  {
   "cell_type": "code",
   "execution_count": null,
   "id": "2ec06ee3",
   "metadata": {},
   "outputs": [],
   "source": [
    "type(total_uang)"
   ]
  },
  {
   "cell_type": "code",
   "execution_count": null,
   "id": "cad57697",
   "metadata": {},
   "outputs": [],
   "source": [
    "bilangan_satu = input(\"Masukkan bilangan pertama: \")\n",
    "bilangan_kedua = input(\"Masukkan bilangan kedua: \")\n",
    "jumlah = float(bilangan_satu) + float(bilangan_kedua)\n",
    "print(\"jumlah kedua bilangan adalah \"+ str(jumlah))"
   ]
  },
  {
   "cell_type": "markdown",
   "id": "020e18fc",
   "metadata": {},
   "source": [
    "5.4 FORMATTED STRING"
   ]
  },
  {
   "cell_type": "code",
   "execution_count": null,
   "id": "26693aa9",
   "metadata": {},
   "outputs": [],
   "source": [
    "nama = \"Vladimir\"\n",
    "pekerjaan = 'guru'\n",
    "institusi = 'SD Bina Jaya'\n",
    "print(nama + 'adalah seorang' + pekerjaan + 'di' + institusi +'.')"
   ]
  },
  {
   "cell_type": "code",
   "execution_count": null,
   "id": "aab141eb",
   "metadata": {},
   "outputs": [],
   "source": [
    "print(f'{nama} adalah seorang {pekerjaan} di {institusi}.')"
   ]
  },
  {
   "cell_type": "code",
   "execution_count": null,
   "id": "4230fe70",
   "metadata": {},
   "outputs": [],
   "source": [
    "print(f\"{nama} adalah seorang {pekerjaan} di {institusi}.\")"
   ]
  },
  {
   "cell_type": "markdown",
   "id": "6851942f",
   "metadata": {},
   "source": [
    "5.5 String Index"
   ]
  },
  {
   "cell_type": "code",
   "execution_count": null,
   "id": "44385831",
   "metadata": {},
   "outputs": [],
   "source": [
    "kelas = 'ini kelas integral'"
   ]
  },
  {
   "cell_type": "code",
   "execution_count": null,
   "id": "ded171c6",
   "metadata": {},
   "outputs": [],
   "source": [
    "print(kelas[0:3])"
   ]
  },
  {
   "cell_type": "code",
   "execution_count": null,
   "id": "fff0077e",
   "metadata": {},
   "outputs": [],
   "source": [
    "print(kelas[0:-1])"
   ]
  },
  {
   "cell_type": "code",
   "execution_count": null,
   "id": "689fa080",
   "metadata": {},
   "outputs": [],
   "source": [
    "print(kelas[5:-1])"
   ]
  },
  {
   "cell_type": "code",
   "execution_count": null,
   "id": "92ea952b",
   "metadata": {},
   "outputs": [],
   "source": [
    "print(kelas[2:-1:3])"
   ]
  },
  {
   "cell_type": "code",
   "execution_count": null,
   "id": "b7f8a507",
   "metadata": {},
   "outputs": [],
   "source": [
    "print(kelas[:-3])"
   ]
  },
  {
   "cell_type": "code",
   "execution_count": null,
   "id": "7958147b",
   "metadata": {},
   "outputs": [],
   "source": [
    "print(kelas[1:])"
   ]
  },
  {
   "cell_type": "code",
   "execution_count": null,
   "id": "ae3a732a",
   "metadata": {},
   "outputs": [],
   "source": [
    "print(kelas[:])"
   ]
  },
  {
   "cell_type": "markdown",
   "id": "e8b2b3b0",
   "metadata": {},
   "source": [
    "5.6 String Methods"
   ]
  },
  {
   "cell_type": "code",
   "execution_count": null,
   "id": "d7f7c8dc",
   "metadata": {},
   "outputs": [],
   "source": [
    "judul = 'Bali Surga Dunia'"
   ]
  },
  {
   "cell_type": "code",
   "execution_count": null,
   "id": "be557e9f",
   "metadata": {},
   "outputs": [],
   "source": [
    "print(len(judul))"
   ]
  },
  {
   "cell_type": "code",
   "execution_count": null,
   "id": "ce26ba10",
   "metadata": {},
   "outputs": [],
   "source": [
    "judul.upper()"
   ]
  },
  {
   "cell_type": "code",
   "execution_count": null,
   "id": "3383ec70",
   "metadata": {},
   "outputs": [],
   "source": [
    "judul.lower()"
   ]
  },
  {
   "cell_type": "code",
   "execution_count": null,
   "id": "42ee324f",
   "metadata": {},
   "outputs": [],
   "source": [
    "judul.find('surga')"
   ]
  },
  {
   "cell_type": "code",
   "execution_count": null,
   "id": "1d17ecd3",
   "metadata": {},
   "outputs": [],
   "source": [
    "judul.find('bali')"
   ]
  },
  {
   "cell_type": "code",
   "execution_count": null,
   "id": "81da2453",
   "metadata": {},
   "outputs": [],
   "source": [
    "judul.replace('Bali', 'Indonesia')"
   ]
  },
  {
   "cell_type": "code",
   "execution_count": null,
   "id": "cbf15763",
   "metadata": {},
   "outputs": [],
   "source": [
    "judul.replace('bali', 'Indonesia')"
   ]
  },
  {
   "cell_type": "code",
   "execution_count": null,
   "id": "5790ccf0",
   "metadata": {},
   "outputs": [],
   "source": [
    "print('Bali' in judul)"
   ]
  },
  {
   "cell_type": "code",
   "execution_count": null,
   "id": "306a670f",
   "metadata": {},
   "outputs": [],
   "source": [
    "print('bali' in judul)"
   ]
  },
  {
   "cell_type": "markdown",
   "id": "a1cf1c3a",
   "metadata": {},
   "source": [
    "5.7 Operasi Matematika di Phyton"
   ]
  },
  {
   "cell_type": "code",
   "execution_count": null,
   "id": "4cd0ec80",
   "metadata": {},
   "outputs": [],
   "source": [
    "print(4+2)\n",
    "print(4-2)\n",
    "print(4*2)\n",
    "print(4/2)\n",
    "print(4//2)\n",
    "print(4%2)\n",
    "print(4**2)\n",
    "x=3\n",
    "x+=1\n",
    "print(x)\n",
    "x-=2\n",
    "print(x)\n",
    "x*=3\n",
    "print(x)"
   ]
  },
  {
   "cell_type": "markdown",
   "id": "9b21e8b2",
   "metadata": {},
   "source": [
    "5.8 Operator Perbandingan di Phyton"
   ]
  },
  {
   "cell_type": "code",
   "execution_count": null,
   "id": "ce5bf89b",
   "metadata": {},
   "outputs": [],
   "source": [
    "x = 3>2\n",
    "print(x)\n",
    "x = 2<3\n",
    "print(x)\n",
    "x = 3 >= 2\n",
    "print(x)\n",
    "x = 2 <= 3\n",
    "print(x)\n",
    "x = 3 == 3\n",
    "print(x)\n",
    "x = 3 != 4\n",
    "print(x)"
   ]
  },
  {
   "cell_type": "code",
   "execution_count": null,
   "id": "484d115f",
   "metadata": {},
   "outputs": [],
   "source": [
    "x = 2>3\n",
    "print(x)\n",
    "x = 3<2\n",
    "print(x)\n",
    "x = 2 >= 3\n",
    "print(x)\n",
    "x = 3 <= 2\n",
    "print(x)\n",
    "x = 3 == 4\n",
    "print(x)\n",
    "x = 3 != 3\n",
    "print(x)"
   ]
  },
  {
   "cell_type": "markdown",
   "id": "12b3ab29",
   "metadata": {},
   "source": [
    "5.9 Operator Logika di Phyton"
   ]
  },
  {
   "cell_type": "code",
   "execution_count": null,
   "id": "00135e52",
   "metadata": {},
   "outputs": [],
   "source": [
    "buah_manggis = 10\n",
    "buah_mangga = 15\n",
    "print(buah_mangis > 8 buah_mangga < 20)"
   ]
  },
  {
   "cell_type": "code",
   "execution_count": null,
   "id": "649d6376",
   "metadata": {},
   "outputs": [],
   "source": [
    "print(buah_manggis < 8 or buah_mangga < 20)"
   ]
  },
  {
   "cell_type": "code",
   "execution_count": null,
   "id": "8c60a605",
   "metadata": {},
   "outputs": [],
   "source": [
    "print(buah_manggis < 8 or buah_mangga > 20)"
   ]
  },
  {
   "cell_type": "code",
   "execution_count": null,
   "id": "762542cd",
   "metadata": {},
   "outputs": [],
   "source": [
    "print(not (buah_manggis < 8 or buah_mangga > 20))"
   ]
  },
  {
   "cell_type": "markdown",
   "id": "0eb092c6",
   "metadata": {},
   "source": [
    "5.10 Operator If di Phyton"
   ]
  },
  {
   "cell_type": "code",
   "execution_count": null,
   "id": "a14b2e5b",
   "metadata": {},
   "outputs": [],
   "source": [
    "nilai = float(input(\"Nilai anda adalah\"))\n",
    "if nilai >= 80:\n",
    "    print(\"Anda mendapatkan nilai A\")\n",
    "    print(\"Bagus sekali, selamat!\")\n",
    "if nilai < 80 and nilai >= 70:\n",
    "    print(\"Anda mendapatkan nilai B\")\n",
    "    print(\"Tingkatkan prestasimu!\")\n",
    "if nilai >= 60 dan nilai < 70:\n",
    "    print(\"Anda mendapatkan nilai C\")\n",
    "    print(\"Lain kali musti lebih baik\")\n",
    "if nilai >= 50 and nilai < 60:\n",
    "    print(\"Anda mendapatkan nilai D\")\n",
    "    print(\"Ulangi tahun depan\")\n",
    "if nilai < 50:\n",
    "    print(\"Anda mendapatkan nilai E\")\n",
    "    print(\"Sampai jumpa tahun depan\")"
   ]
  },
  {
   "cell_type": "code",
   "execution_count": null,
   "id": "3118cb05",
   "metadata": {},
   "outputs": [],
   "source": [
    "nilai = float(input(\"Nilai anda adalah\"))\n",
    "if nilai >= 80:\n",
    "    print(\"Anda mendapatkan nilai A\")\n",
    "    print(\"Bagus sekali, selamat!\")\n",
    "if nilai >= 70:\n",
    "    print(\"Anda mendapatkan nilai B\")\n",
    "    print(\"Tingkatkan prestasimu!\")\n",
    "if nilai >= 60:\n",
    "    print(\"Anda mendapatkan nilai C\")\n",
    "    print(\"Lain kali musti lebih baik\")\n",
    "if nilai >= 50:\n",
    "    print(\"Anda mendapatkan nilai D\")\n",
    "    print(\"Ulangi tahun depan\")\n",
    "else:\n",
    "    print(\"Anda mendapatkan nilai E\")\n",
    "    print(\"Sampai jumpa tahun depan\")"
   ]
  },
  {
   "cell_type": "code",
   "execution_count": null,
   "id": "17e032e0",
   "metadata": {},
   "outputs": [],
   "source": [
    "tinggi = float(input(\"Berapakah tinggi anda? \"))\n",
    "cm_atau_inci = input(\"Tingginya dalam cm atau inci? \")\n",
    "\n",
    "if cm_atau_inci.upper() == 'CM':\n",
    "    tinggi = tinggi*0.393701\n",
    "    print(\"Tinggi anda adalah \" + str(tinggi) + \"inci\")\n",
    "elif cm_atau_inci.upper() == 'INCI':\n",
    "    tinggi = tinggi/0.393701\n",
    "    print(f\"Tinggi anda adalah {tinggi} cm\")\n"
   ]
  },
  {
   "cell_type": "markdown",
   "id": "496c8dd3",
   "metadata": {},
   "source": [
    "5.11 While Loop"
   ]
  },
  {
   "cell_type": "code",
   "execution_count": null,
   "id": "4374d5ca",
   "metadata": {},
   "outputs": [],
   "source": [
    "a = 0\n",
    "while a < 5:\n",
    "    print(\"Angka \" + str(a)+\" masih dibawah 5\")\n",
    "    a += 1"
   ]
  },
  {
   "cell_type": "code",
   "execution_count": null,
   "id": "7cc5c0b3",
   "metadata": {},
   "outputs": [],
   "source": [
    "a = 0\n",
    "while a < 5:\n",
    "    print(a * '*')\n",
    "    a += 1"
   ]
  },
  {
   "cell_type": "code",
   "execution_count": null,
   "id": "02087bfd",
   "metadata": {},
   "outputs": [],
   "source": []
  },
  {
   "cell_type": "code",
   "execution_count": null,
   "id": "2f073067",
   "metadata": {},
   "outputs": [],
   "source": []
  },
  {
   "cell_type": "code",
   "execution_count": null,
   "id": "6926f0f7",
   "metadata": {},
   "outputs": [],
   "source": []
  },
  {
   "cell_type": "code",
   "execution_count": null,
   "id": "7f27a697",
   "metadata": {},
   "outputs": [],
   "source": []
  },
  {
   "cell_type": "code",
   "execution_count": null,
   "id": "f07c7c8e",
   "metadata": {},
   "outputs": [],
   "source": []
  },
  {
   "cell_type": "code",
   "execution_count": null,
   "id": "06955505",
   "metadata": {},
   "outputs": [],
   "source": []
  },
  {
   "cell_type": "code",
   "execution_count": null,
   "id": "1a3a08da",
   "metadata": {},
   "outputs": [],
   "source": []
  },
  {
   "cell_type": "code",
   "execution_count": null,
   "id": "95148df8",
   "metadata": {},
   "outputs": [],
   "source": []
  },
  {
   "cell_type": "code",
   "execution_count": null,
   "id": "e3cc2264",
   "metadata": {},
   "outputs": [],
   "source": []
  },
  {
   "cell_type": "code",
   "execution_count": null,
   "id": "39d418cb",
   "metadata": {},
   "outputs": [],
   "source": []
  },
  {
   "cell_type": "code",
   "execution_count": null,
   "id": "d4e80800",
   "metadata": {},
   "outputs": [],
   "source": []
  },
  {
   "cell_type": "code",
   "execution_count": null,
   "id": "865fa0d6",
   "metadata": {},
   "outputs": [],
   "source": []
  }
 ],
 "metadata": {
  "kernelspec": {
   "display_name": "Python 3 (ipykernel)",
   "language": "python",
   "name": "python3"
  },
  "language_info": {
   "codemirror_mode": {
    "name": "ipython",
    "version": 3
   },
   "file_extension": ".py",
   "mimetype": "text/x-python",
   "name": "python",
   "nbconvert_exporter": "python",
   "pygments_lexer": "ipython3",
   "version": "3.9.7"
  }
 },
 "nbformat": 4,
 "nbformat_minor": 5
}

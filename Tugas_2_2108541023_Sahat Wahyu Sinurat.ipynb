{
 "cells": [
  {
   "cell_type": "markdown",
   "id": "97d2423b",
   "metadata": {},
   "source": [
    "# 5.12 LIST DI PHYTON"
   ]
  },
  {
   "cell_type": "code",
   "execution_count": null,
   "id": "6a9cc244",
   "metadata": {},
   "outputs": [],
   "source": [
    "buah =  ['jambu', 'apel', 'mengkudu', 'belimbing']\n",
    "print(buah)"
   ]
  },
  {
   "cell_type": "code",
   "execution_count": null,
   "id": "51e954d4",
   "metadata": {},
   "outputs": [],
   "source": [
    "print(buah[0])"
   ]
  },
  {
   "cell_type": "code",
   "execution_count": null,
   "id": "34f00d94",
   "metadata": {},
   "outputs": [],
   "source": [
    "print(buah[2])"
   ]
  },
  {
   "cell_type": "code",
   "execution_count": null,
   "id": "d4974bd4",
   "metadata": {},
   "outputs": [],
   "source": [
    "print(buah[-1])"
   ]
  },
  {
   "cell_type": "code",
   "execution_count": null,
   "id": "8894b6bf",
   "metadata": {},
   "outputs": [],
   "source": [
    "print(buah[-2])"
   ]
  },
  {
   "cell_type": "code",
   "execution_count": null,
   "id": "10964037",
   "metadata": {},
   "outputs": [],
   "source": [
    "buah[0] = 'jambu'"
   ]
  },
  {
   "cell_type": "code",
   "execution_count": null,
   "id": "248ca277",
   "metadata": {},
   "outputs": [],
   "source": [
    "print(buah[0:3])"
   ]
  },
  {
   "cell_type": "code",
   "execution_count": null,
   "id": "91ebfe43",
   "metadata": {},
   "outputs": [],
   "source": [
    "#tidak merubah list\n",
    "print(buah)"
   ]
  },
  {
   "cell_type": "markdown",
   "id": "b8b42cd1",
   "metadata": {},
   "source": [
    "# 5.13 METODA LIST"
   ]
  },
  {
   "cell_type": "code",
   "execution_count": null,
   "id": "eb974fcc",
   "metadata": {},
   "outputs": [],
   "source": [
    "nama = ['Soni','Dodi','Surya']\n",
    "nama.append('Sari')\n",
    "print(nama)"
   ]
  },
  {
   "cell_type": "code",
   "execution_count": null,
   "id": "f8118f10",
   "metadata": {},
   "outputs": [],
   "source": [
    "nama.insert(0,'Surya')\n",
    "print(nama)"
   ]
  },
  {
   "cell_type": "code",
   "execution_count": null,
   "id": "4f6a2f16",
   "metadata": {},
   "outputs": [],
   "source": [
    "nama.remove('Dodi')\n",
    "print(nama)"
   ]
  },
  {
   "cell_type": "code",
   "execution_count": null,
   "id": "67ed1061",
   "metadata": {},
   "outputs": [],
   "source": [
    "print('Dodi' in nama)"
   ]
  },
  {
   "cell_type": "code",
   "execution_count": 3,
   "id": "8699571f",
   "metadata": {},
   "outputs": [
    {
     "ename": "NameError",
     "evalue": "name 'nama' is not defined",
     "output_type": "error",
     "traceback": [
      "\u001b[1;31m---------------------------------------------------------------------------\u001b[0m",
      "\u001b[1;31mNameError\u001b[0m                                 Traceback (most recent call last)",
      "\u001b[1;32mC:\\Users\\WAHYUS~1\\AppData\\Local\\Temp/ipykernel_18236/3788126808.py\u001b[0m in \u001b[0;36m<module>\u001b[1;34m\u001b[0m\n\u001b[1;32m----> 1\u001b[1;33m \u001b[0mprint\u001b[0m\u001b[1;33m(\u001b[0m\u001b[1;34m'Dewi'\u001b[0m \u001b[1;32min\u001b[0m \u001b[0mnama\u001b[0m\u001b[1;33m)\u001b[0m\u001b[1;33m\u001b[0m\u001b[1;33m\u001b[0m\u001b[0m\n\u001b[0m",
      "\u001b[1;31mNameError\u001b[0m: name 'nama' is not defined"
     ]
    }
   ],
   "source": [
    "print('Surya' in nama)"
   ]
  },
  {
   "cell_type": "code",
   "execution_count": null,
   "id": "89df6256",
   "metadata": {},
   "outputs": [],
   "source": [
    "print(len(nama))"
   ]
  },
  {
   "cell_type": "markdown",
   "id": "b9d58aa9",
   "metadata": {},
   "source": [
    "# 5.14 FOR LOOP"
   ]
  },
  {
   "cell_type": "code",
   "execution_count": null,
   "id": "e4ea0b01",
   "metadata": {},
   "outputs": [],
   "source": [
    "buah = ['mangga','kesemek','duku','melon']\n",
    "for jenis in buah:\n",
    "    print(jenis)"
   ]
  },
  {
   "cell_type": "code",
   "execution_count": null,
   "id": "699db8b9",
   "metadata": {},
   "outputs": [],
   "source": [
    "i = 0\n",
    "while i < len(buah):\n",
    "    print(buah[i])\n",
    "    i+=1"
   ]
  },
  {
   "cell_type": "markdown",
   "id": "dfd033d0",
   "metadata": {},
   "source": [
    "# 5.15 FUNGSI RANGE"
   ]
  },
  {
   "cell_type": "code",
   "execution_count": null,
   "id": "6d504da0",
   "metadata": {},
   "outputs": [],
   "source": [
    "angka = range(6)\n",
    "print(angka)"
   ]
  },
  {
   "cell_type": "code",
   "execution_count": null,
   "id": "5d8ef4cd",
   "metadata": {},
   "outputs": [],
   "source": [
    "for isi in angka:\n",
    "    print(isi)"
   ]
  },
  {
   "cell_type": "code",
   "execution_count": null,
   "id": "8258e161",
   "metadata": {},
   "outputs": [],
   "source": [
    "for isi in range(5,10):\n",
    "    print(isi)"
   ]
  },
  {
   "cell_type": "code",
   "execution_count": null,
   "id": "fef3862e",
   "metadata": {},
   "outputs": [],
   "source": [
    "for isi in range(0,10,2):\n",
    "    print(isi)"
   ]
  },
  {
   "cell_type": "markdown",
   "id": "9eed4e2a",
   "metadata": {},
   "source": [
    "### Latihan\n",
    "1. buatlah program untuk mencari nilai terbesar di dalam suatu list"
   ]
  },
  {
   "cell_type": "code",
   "execution_count": null,
   "id": "159055bb",
   "metadata": {},
   "outputs": [],
   "source": [
    "data = [1,2,3,4,5,4,3,2,1]\n",
    "terbesar = data[0]\n",
    "for i in range(len(data)):\n",
    "    if data[i] > terbesar:\n",
    "        terbesar = data[i]\n",
    "print(terbesar)"
   ]
  },
  {
   "cell_type": "code",
   "execution_count": null,
   "id": "512e977c",
   "metadata": {},
   "outputs": [],
   "source": [
    "data = [1,2,3,4,5,4,3,2,1]\n",
    "terbesar = data[0]\n",
    "for angka in data:\n",
    "    if angka > terbesar:\n",
    "        terbesar = angka\n",
    "print(terbesar)"
   ]
  },
  {
   "cell_type": "markdown",
   "id": "d42f1642",
   "metadata": {},
   "source": [
    "##### 2. buatlah program untuk membuat anggota list menjadi unik dengan kata lain tidak ada anggota list yang kembar"
   ]
  },
  {
   "cell_type": "code",
   "execution_count": null,
   "id": "a8835ace",
   "metadata": {},
   "outputs": [],
   "source": [
    "angka = [1,2,3,4,5,6,3,4,5,7,8,7]\n",
    "angka_unik = []\n",
    "for anggota in angka:\n",
    "    if anggota not in angka_unik:\n",
    "        angka_unik.append(anggota)\n",
    "print(terbesar)"
   ]
  },
  {
   "cell_type": "markdown",
   "id": "252a1c67",
   "metadata": {},
   "source": [
    "# 5.16 LIST 2 DIMENSI"
   ]
  },
  {
   "cell_type": "code",
   "execution_count": null,
   "id": "0cf9e8c1",
   "metadata": {},
   "outputs": [],
   "source": [
    "matrik = [\n",
    "    [1,2,3,4],\n",
    "    [5,6,7,8],\n",
    "    [9,10,11,12],\n",
    "    [13,14,15,16]\n",
    "]\n",
    "print(matrik)"
   ]
  },
  {
   "cell_type": "code",
   "execution_count": null,
   "id": "836f0f4f",
   "metadata": {},
   "outputs": [],
   "source": [
    "matrik[1]"
   ]
  },
  {
   "cell_type": "code",
   "execution_count": null,
   "id": "f2e20765",
   "metadata": {},
   "outputs": [],
   "source": [
    "matrik[1][2]"
   ]
  },
  {
   "cell_type": "code",
   "execution_count": null,
   "id": "e0445a5e",
   "metadata": {},
   "outputs": [],
   "source": [
    "matrik[1][2]=100\n",
    "print(matrik[1][2])"
   ]
  },
  {
   "cell_type": "code",
   "execution_count": null,
   "id": "ed1d501d",
   "metadata": {},
   "outputs": [],
   "source": [
    "matrik"
   ]
  },
  {
   "cell_type": "code",
   "execution_count": null,
   "id": "2cd8bcd9",
   "metadata": {},
   "outputs": [],
   "source": [
    "for baris in matrik:\n",
    "    print(baris)\n",
    "    for kolom in baris:\n",
    "        print(kolom)"
   ]
  },
  {
   "cell_type": "markdown",
   "id": "42c7ee8d",
   "metadata": {},
   "source": [
    "# 5.17 TUPLES"
   ]
  },
  {
   "cell_type": "code",
   "execution_count": null,
   "id": "81466e28",
   "metadata": {},
   "outputs": [],
   "source": [
    "angka = (0,1,2,3,4,5)"
   ]
  },
  {
   "cell_type": "code",
   "execution_count": null,
   "id": "60b7b48d",
   "metadata": {},
   "outputs": [],
   "source": [
    "print(angka[0])"
   ]
  },
  {
   "cell_type": "code",
   "execution_count": null,
   "id": "1fc37ce2",
   "metadata": {},
   "outputs": [],
   "source": [
    "print(angka[0:3])"
   ]
  },
  {
   "cell_type": "code",
   "execution_count": null,
   "id": "a7f98a34",
   "metadata": {},
   "outputs": [],
   "source": [
    "for isi in angka[0:3]:\n",
    "    print(isi)"
   ]
  },
  {
   "cell_type": "code",
   "execution_count": null,
   "id": "d46ce53f",
   "metadata": {},
   "outputs": [],
   "source": [
    "angka[0] = 10"
   ]
  },
  {
   "cell_type": "code",
   "execution_count": null,
   "id": "eeefa77f",
   "metadata": {},
   "outputs": [],
   "source": [
    "angka.append(10)"
   ]
  },
  {
   "cell_type": "code",
   "execution_count": null,
   "id": "af502b02",
   "metadata": {},
   "outputs": [],
   "source": [
    "angka.remove(5)"
   ]
  },
  {
   "cell_type": "code",
   "execution_count": null,
   "id": "c97699a7",
   "metadata": {},
   "outputs": [],
   "source": [
    "angka.count(1)"
   ]
  },
  {
   "cell_type": "code",
   "execution_count": null,
   "id": "a96483be",
   "metadata": {},
   "outputs": [],
   "source": [
    "angka.index(3)"
   ]
  },
  {
   "cell_type": "markdown",
   "id": "c709a1db",
   "metadata": {},
   "source": [
    "# 5.18 DICTIONARIES"
   ]
  },
  {
   "cell_type": "code",
   "execution_count": null,
   "id": "43d61dd4",
   "metadata": {},
   "outputs": [],
   "source": [
    "data_orang = {\n",
    "    \"nama\" : \"Sahat Wahyu Sinurat\",\n",
    "    \"umur\" : 19,\n",
    "    \"apakah_single\" : true\n",
    "}"
   ]
  },
  {
   "cell_type": "code",
   "execution_count": null,
   "id": "1319c7fc",
   "metadata": {},
   "outputs": [],
   "source": [
    "print(data_orang['nama'])"
   ]
  },
  {
   "cell_type": "code",
   "execution_count": null,
   "id": "0ae5fad2",
   "metadata": {},
   "outputs": [],
   "source": [
    "print(data_orang['Nama'])"
   ]
  },
  {
   "cell_type": "code",
   "execution_count": null,
   "id": "0adca5e8",
   "metadata": {},
   "outputs": [],
   "source": [
    "print(data_orang.get('nama'))"
   ]
  },
  {
   "cell_type": "code",
   "execution_count": null,
   "id": "178b1169",
   "metadata": {},
   "outputs": [],
   "source": [
    "print(data_orang.get('Nama'))"
   ]
  },
  {
   "cell_type": "code",
   "execution_count": null,
   "id": "cd6bf529",
   "metadata": {},
   "outputs": [],
   "source": [
    "print(data_orang.get('tanggal_lahir'))"
   ]
  },
  {
   "cell_type": "code",
   "execution_count": null,
   "id": "18df8560",
   "metadata": {},
   "outputs": [],
   "source": [
    "print(data_orang.get('tanggal_lahir', '12-12-2002'))"
   ]
  },
  {
   "cell_type": "code",
   "execution_count": null,
   "id": "3aff6482",
   "metadata": {},
   "outputs": [],
   "source": [
    "print(data_orang)"
   ]
  },
  {
   "cell_type": "code",
   "execution_count": null,
   "id": "5fed44c3",
   "metadata": {},
   "outputs": [],
   "source": [
    "print(data_orang[\"tanggal_lahir\"])"
   ]
  },
  {
   "cell_type": "code",
   "execution_count": null,
   "id": "3399f5e8",
   "metadata": {},
   "outputs": [],
   "source": [
    "data_orang['HP'] = '089630187368'"
   ]
  },
  {
   "cell_type": "code",
   "execution_count": null,
   "id": "c792099a",
   "metadata": {},
   "outputs": [],
   "source": [
    "print(data_orang[\"HP\"])"
   ]
  },
  {
   "cell_type": "code",
   "execution_count": null,
   "id": "97adf208",
   "metadata": {},
   "outputs": [],
   "source": [
    "print(data_orang)"
   ]
  },
  {
   "cell_type": "code",
   "execution_count": null,
   "id": "45db5257",
   "metadata": {},
   "outputs": [],
   "source": [
    "angka = {\n",
    "    \"0\" : \"nol\",\n",
    "    \"1\" : \"satu\",\n",
    "    \"2\" : \"dua\",\n",
    "    \"3\" : \"tiga\",\n",
    "    \"4\" : \"empat\",\n",
    "    \"5\" : \"lima\",\n",
    "    \"6\" : \"enam\",\n",
    "    \"7\" : \"tujuh\",\n",
    "    \"8\" : \"delapan\",\n",
    "    \"9\" : \"sembilan\"\n",
    "}"
   ]
  },
  {
   "cell_type": "code",
   "execution_count": null,
   "id": "129c12e2",
   "metadata": {},
   "outputs": [],
   "source": [
    "nomor_HP = input(\"Masukan nomor HP anda \")\n",
    "nomor_angka = \"\"\n",
    "for isi in nomor_HP:\n",
    "    nomor_angka += angka.get(isi) + \" \"\n",
    "print(nomor_angka)"
   ]
  },
  {
   "cell_type": "markdown",
   "id": "da7b938d",
   "metadata": {},
   "source": [
    "# 5.19 FUNGSI DALAM PHYTON"
   ]
  },
  {
   "cell_type": "code",
   "execution_count": null,
   "id": "70b05bcf",
   "metadata": {},
   "outputs": [],
   "source": [
    "def full_name(first_name,last_name):\n",
    "    print(f\"Nama lengkapnya adalah {nama_depan} {nama_belakang}\")"
   ]
  },
  {
   "cell_type": "code",
   "execution_count": null,
   "id": "c6bb9252",
   "metadata": {},
   "outputs": [],
   "source": [
    "first_name = input(\"Nama depan anda adalah \")\n",
    "last_name = input(\"Nama belakang anda adalah \")\n",
    "full_name(nama_depan,nama_belakang)"
   ]
  },
  {
   "cell_type": "markdown",
   "id": "088d26d8",
   "metadata": {},
   "source": [
    "# 5.19.1 Tugas Fungsi Pada Phyton\n",
    "ada dua jenis tugas fungsi pada phyton yaitu:\n",
    "- menjalankan perintah\n",
    "- menampilkan hasil perhitungan"
   ]
  },
  {
   "cell_type": "code",
   "execution_count": null,
   "id": "ba86e4bc",
   "metadata": {},
   "outputs": [],
   "source": [
    "def waktu_sampai(jarak,kecepatan):\n",
    "    waktu = jarak/kecepatan\n",
    "    print(waktu)"
   ]
  },
  {
   "cell_type": "code",
   "execution_count": null,
   "id": "354a8d82",
   "metadata": {},
   "outputs": [],
   "source": [
    "def waktu_tempuh(jarak,kecepatan):\n",
    "    waktu = jarak/kecepatan\n",
    "    return waktu"
   ]
  },
  {
   "cell_type": "code",
   "execution_count": null,
   "id": "158e4092",
   "metadata": {},
   "outputs": [],
   "source": [
    "waktu_sampai(80,60)"
   ]
  },
  {
   "cell_type": "code",
   "execution_count": null,
   "id": "a2de565c",
   "metadata": {},
   "outputs": [],
   "source": [
    "waktu_tempuh(80,60)"
   ]
  },
  {
   "cell_type": "code",
   "execution_count": null,
   "id": "55bb42ea",
   "metadata": {},
   "outputs": [],
   "source": [
    "a = waktu_sampai(80,60)\n",
    "print(a)"
   ]
  },
  {
   "cell_type": "code",
   "execution_count": null,
   "id": "bdb8569f",
   "metadata": {},
   "outputs": [],
   "source": [
    "b = waktu_tempuh(80,60)\n",
    "print(b)"
   ]
  },
  {
   "cell_type": "markdown",
   "id": "fa50225f",
   "metadata": {},
   "source": [
    "## Latihan\n",
    "Buatlah program yang menggunakan fungsi phyton untuk menghitung luas segitiga, lingkaran, persegi dan persegi panjang . selain itu berikan peringatan bagi bidang lain yang tidak termasuk perhitungan"
   ]
  },
  {
   "cell_type": "code",
   "execution_count": null,
   "id": "3a444ce7",
   "metadata": {},
   "outputs": [],
   "source": [
    "import numpy as np"
   ]
  },
  {
   "cell_type": "code",
   "execution_count": null,
   "id": "ffaeea9c",
   "metadata": {},
   "outputs": [],
   "source": [
    "def luas_segitiga(alas,tinggi):\n",
    "    luas = (1/2)*alas*tinggi\n",
    "    return luas\n",
    "def luas_lingkaran(jari_jari):\n",
    "    luas = np.pi*(jari_jari**2)\n",
    "    return luas\n",
    "def luas_persegi(sisi):\n",
    "    luas = sisi**2\n",
    "    return luas\n",
    "def luas_persegi_panjang(panjang,lebar):\n",
    "    luas = panjang*lebar\n",
    "    return luas"
   ]
  },
  {
   "cell_type": "code",
   "execution_count": null,
   "id": "73f38769",
   "metadata": {},
   "outputs": [],
   "source": [
    "jenis_bidang = input(\"Tulis jenis bidang nya\")\n",
    "if jenis_bidang.upper() == 'SEGITIGA':\n",
    "    alas = float(input('Berapakah panjang alasnya? '))\n",
    "    tinggi = float(input('Berapakah tingginya? '))\n",
    "    luas = luas_segitiga(alas,tinggi)\n",
    "    print(f\"luas {jenis_bidang} adalah {luas}\")\n",
    "elif jenis_bidang.upper() == 'LINGKARAN':\n",
    "    jari_jari = float(input('Berapakah panjang jari-jarinya? '))\n",
    "    luas = luas_lingkaran(jari_jari)\n",
    "    print(f\"luas {jenis_bidang} adalah {luas}\")\n",
    "elif jenis_bidang.upper() == 'PERSEGI':\n",
    "    sisi = float(input('Berapakah panjang sisinya? '))\n",
    "    luas = luas_persegi(sisi)\n",
    "    print(f\"luas {jenis_bidang} adalah {luas}\")\n",
    "elif jenis_bidang.upper() == 'PERSEGI PANJANG':\n",
    "    panjang = float(input('Berapakah panjangnya? '))\n",
    "    lebar = float(input('Berapakah lebarnya? '))\n",
    "    luas = luas_persegin_panjang(panjang,lebar)\n",
    "    print(f\"luas {jenis_bidang} adalah {luas}\")\n",
    "else:\n",
    "    print(f\"Maaf bidang {jenis_bidang} yang anda masukan tidak ada.\")\n",
    "    print(\"Pilihan cuma SEGITIGA, LINGKARAN, PERSEGI, PERSEGI PANJANG.\")\n",
    "    print('Terimakasih')"
   ]
  }
 ],
 "metadata": {
  "kernelspec": {
   "display_name": "Python 3 (ipykernel)",
   "language": "python",
   "name": "python3"
  },
  "language_info": {
   "codemirror_mode": {
    "name": "ipython",
    "version": 3
   },
   "file_extension": ".py",
   "mimetype": "text/x-python",
   "name": "python",
   "nbconvert_exporter": "python",
   "pygments_lexer": "ipython3",
   "version": "3.9.7"
  }
 },
 "nbformat": 4,
 "nbformat_minor": 5
}

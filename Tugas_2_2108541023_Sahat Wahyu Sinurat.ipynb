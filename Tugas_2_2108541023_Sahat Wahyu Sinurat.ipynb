{
 "cells": [
  {
   "cell_type": "markdown",
   "id": "77422b07",
   "metadata": {},
   "source": [
    "LIST DI PHYTON"
   ]
  },
  {
   "cell_type": "code",
   "execution_count": null,
   "id": "0be51e07",
   "metadata": {},
   "outputs": [],
   "source": [
    "buah =  ['mangga', 'pisang', 'rambutan', 'durian']\n",
    "print(buah)"
   ]
  },
  {
   "cell_type": "code",
   "execution_count": null,
   "id": "3bb441da",
   "metadata": {},
   "outputs": [],
   "source": [
    "print(buah[0])"
   ]
  },
  {
   "cell_type": "code",
   "execution_count": null,
   "id": "27971e9b",
   "metadata": {},
   "outputs": [],
   "source": [
    "print(buah[2])"
   ]
  },
  {
   "cell_type": "code",
   "execution_count": null,
   "id": "534b8f29",
   "metadata": {},
   "outputs": [],
   "source": [
    "print(buah[-1])"
   ]
  },
  {
   "cell_type": "code",
   "execution_count": null,
   "id": "c0a64ad9",
   "metadata": {},
   "outputs": [],
   "source": [
    "print(buah[-2])"
   ]
  },
  {
   "cell_type": "code",
   "execution_count": null,
   "id": "4275827a",
   "metadata": {},
   "outputs": [],
   "source": [
    "buah[0] = 'salak'"
   ]
  },
  {
   "cell_type": "code",
   "execution_count": null,
   "id": "0c94a519",
   "metadata": {},
   "outputs": [],
   "source": [
    "print(buah[0:3])"
   ]
  },
  {
   "cell_type": "code",
   "execution_count": null,
   "id": "5cd28392",
   "metadata": {},
   "outputs": [],
   "source": [
    "#tidak merubah list\n",
    "print(buah)"
   ]
  },
  {
   "cell_type": "markdown",
   "id": "318a3889",
   "metadata": {},
   "source": [
    "METODA LIST"
   ]
  },
  {
   "cell_type": "code",
   "execution_count": null,
   "id": "1daf6cbc",
   "metadata": {},
   "outputs": [],
   "source": [
    "nama = ['Made','Eka','Dwi']\n",
    "nama.append('Sari')\n",
    "print(nama)"
   ]
  },
  {
   "cell_type": "code",
   "execution_count": null,
   "id": "ab5204e3",
   "metadata": {},
   "outputs": [],
   "source": [
    "nama.insert(0,'Dewi')\n",
    "print(nama)"
   ]
  },
  {
   "cell_type": "code",
   "execution_count": null,
   "id": "ac1c5d72",
   "metadata": {},
   "outputs": [],
   "source": [
    "nama.remove('Eka')\n",
    "print(nama)"
   ]
  },
  {
   "cell_type": "code",
   "execution_count": null,
   "id": "4b149b74",
   "metadata": {},
   "outputs": [],
   "source": [
    "print('Eka' in nama)"
   ]
  },
  {
   "cell_type": "code",
   "execution_count": 3,
   "id": "f09eb677",
   "metadata": {},
   "outputs": [
    {
     "ename": "NameError",
     "evalue": "name 'nama' is not defined",
     "output_type": "error",
     "traceback": [
      "\u001b[1;31m---------------------------------------------------------------------------\u001b[0m",
      "\u001b[1;31mNameError\u001b[0m                                 Traceback (most recent call last)",
      "\u001b[1;32mC:\\Users\\WAHYUS~1\\AppData\\Local\\Temp/ipykernel_18236/3788126808.py\u001b[0m in \u001b[0;36m<module>\u001b[1;34m\u001b[0m\n\u001b[1;32m----> 1\u001b[1;33m \u001b[0mprint\u001b[0m\u001b[1;33m(\u001b[0m\u001b[1;34m'Dewi'\u001b[0m \u001b[1;32min\u001b[0m \u001b[0mnama\u001b[0m\u001b[1;33m)\u001b[0m\u001b[1;33m\u001b[0m\u001b[1;33m\u001b[0m\u001b[0m\n\u001b[0m",
      "\u001b[1;31mNameError\u001b[0m: name 'nama' is not defined"
     ]
    }
   ],
   "source": [
    "print('Dewi' in nama)"
   ]
  },
  {
   "cell_type": "code",
   "execution_count": null,
   "id": "d77e0cc2",
   "metadata": {},
   "outputs": [],
   "source": [
    "print(len(nama))"
   ]
  },
  {
   "cell_type": "markdown",
   "id": "0aaae095",
   "metadata": {},
   "source": [
    "FOR LOOP"
   ]
  },
  {
   "cell_type": "code",
   "execution_count": null,
   "id": "c0e813f8",
   "metadata": {},
   "outputs": [],
   "source": [
    "buah = ['manggis','durian','salak','jeruk']\n",
    "for jenis in buah:\n",
    "    print(jenis)"
   ]
  },
  {
   "cell_type": "code",
   "execution_count": null,
   "id": "5766fb72",
   "metadata": {},
   "outputs": [],
   "source": [
    "i = 0\n",
    "while i < len(buah):\n",
    "    print(buah[i])\n",
    "    i+=1"
   ]
  },
  {
   "cell_type": "markdown",
   "id": "0497aad1",
   "metadata": {},
   "source": [
    "FUNGSI RANGE"
   ]
  },
  {
   "cell_type": "code",
   "execution_count": null,
   "id": "a36d5d1f",
   "metadata": {},
   "outputs": [],
   "source": [
    "angka = range(6)\n",
    "print(angka)"
   ]
  },
  {
   "cell_type": "code",
   "execution_count": null,
   "id": "7d61137b",
   "metadata": {},
   "outputs": [],
   "source": [
    "for isi in angka:\n",
    "    print(isi)"
   ]
  },
  {
   "cell_type": "code",
   "execution_count": null,
   "id": "f975f8d3",
   "metadata": {},
   "outputs": [],
   "source": [
    "for isi in range(5,10):\n",
    "    print(isi)"
   ]
  },
  {
   "cell_type": "code",
   "execution_count": null,
   "id": "8a66df7d",
   "metadata": {},
   "outputs": [],
   "source": [
    "for isi in range(0,10,2):\n",
    "    print(isi)"
   ]
  },
  {
   "cell_type": "code",
   "execution_count": null,
   "id": "222b1dd8",
   "metadata": {},
   "outputs": [],
   "source": [
    "data = [1,2,3,4,5,4,3,2,1]\n",
    "terbesar = data[0]\n",
    "for i in range(len(data)):\n",
    "    if data[i] > terbesar:\n",
    "        terbesar = data[i]\n",
    "print(terbesar)"
   ]
  },
  {
   "cell_type": "code",
   "execution_count": null,
   "id": "adc0d0cd",
   "metadata": {},
   "outputs": [],
   "source": [
    "data = [1,2,3,4,5,4,3,2,1]\n",
    "terbesar = data[0]\n",
    "for angka in data:\n",
    "    if angka > terbesar:\n",
    "        terbesar = angka\n",
    "print(terbesar)"
   ]
  },
  {
   "cell_type": "code",
   "execution_count": null,
   "id": "d0953606",
   "metadata": {},
   "outputs": [],
   "source": [
    "angka = [1,2,3,4,5,6,3,4,5,7,8,7]\n",
    "angka_unik = []\n",
    "for anggota in angka:\n",
    "    if anggota not in angka_unik:\n",
    "        angka_unik.append(anggota)\n",
    "print(terbesar)"
   ]
  },
  {
   "cell_type": "markdown",
   "id": "836cdfe8",
   "metadata": {},
   "source": [
    "LIST 2 DIMENSI"
   ]
  },
  {
   "cell_type": "code",
   "execution_count": null,
   "id": "dc7148fd",
   "metadata": {},
   "outputs": [],
   "source": [
    "matrik = [\n",
    "    [1,2,3,4],\n",
    "    [5,6,7,8],\n",
    "    [9,10,11,12],\n",
    "    [13,14,15,16]\n",
    "]\n",
    "print(matrik)"
   ]
  },
  {
   "cell_type": "code",
   "execution_count": null,
   "id": "ee2e2668",
   "metadata": {},
   "outputs": [],
   "source": [
    "matrik[1]"
   ]
  },
  {
   "cell_type": "code",
   "execution_count": null,
   "id": "32b60226",
   "metadata": {},
   "outputs": [],
   "source": [
    "matrik[1][2]"
   ]
  },
  {
   "cell_type": "code",
   "execution_count": null,
   "id": "ee1ee216",
   "metadata": {},
   "outputs": [],
   "source": [
    "matrik[1][2]=100\n",
    "print(matrik[1][2])"
   ]
  },
  {
   "cell_type": "code",
   "execution_count": null,
   "id": "b67bb29e",
   "metadata": {},
   "outputs": [],
   "source": [
    "matrik"
   ]
  },
  {
   "cell_type": "code",
   "execution_count": null,
   "id": "5702678e",
   "metadata": {},
   "outputs": [],
   "source": [
    "for baris in matrik:\n",
    "    print(baris)\n",
    "    for kolom in baris:\n",
    "        print(kolom)"
   ]
  },
  {
   "cell_type": "markdown",
   "id": "42af44e4",
   "metadata": {},
   "source": [
    "TUPLES"
   ]
  },
  {
   "cell_type": "code",
   "execution_count": null,
   "id": "39d590df",
   "metadata": {},
   "outputs": [],
   "source": [
    "angka = (0,1,2,3,4,5)"
   ]
  },
  {
   "cell_type": "code",
   "execution_count": null,
   "id": "f2c9ec8f",
   "metadata": {},
   "outputs": [],
   "source": [
    "print(angka[0])"
   ]
  },
  {
   "cell_type": "code",
   "execution_count": null,
   "id": "6a595e0d",
   "metadata": {},
   "outputs": [],
   "source": [
    "print(angka[0:3])"
   ]
  },
  {
   "cell_type": "code",
   "execution_count": null,
   "id": "77af1cc5",
   "metadata": {},
   "outputs": [],
   "source": [
    "for isi in angka[0:3]:\n",
    "    print(isi)"
   ]
  },
  {
   "cell_type": "code",
   "execution_count": null,
   "id": "ae9a009a",
   "metadata": {},
   "outputs": [],
   "source": [
    "angka[0] = 10"
   ]
  },
  {
   "cell_type": "code",
   "execution_count": null,
   "id": "c20c816a",
   "metadata": {},
   "outputs": [],
   "source": [
    "angka.append(10)"
   ]
  },
  {
   "cell_type": "code",
   "execution_count": null,
   "id": "dd4cb61a",
   "metadata": {},
   "outputs": [],
   "source": [
    "angka.remove(5)"
   ]
  },
  {
   "cell_type": "code",
   "execution_count": null,
   "id": "d46198b8",
   "metadata": {},
   "outputs": [],
   "source": [
    "angka.count(1)"
   ]
  },
  {
   "cell_type": "code",
   "execution_count": null,
   "id": "9160b0fd",
   "metadata": {},
   "outputs": [],
   "source": [
    "angka.index(3)"
   ]
  },
  {
   "cell_type": "markdown",
   "id": "ff0010d6",
   "metadata": {},
   "source": [
    "DICTIONARIES"
   ]
  },
  {
   "cell_type": "code",
   "execution_count": null,
   "id": "f3e058ed",
   "metadata": {},
   "outputs": [],
   "source": [
    "data_orang = {\n",
    "    \"nama\" : \"Ketut Dogler\",\n",
    "    \"umur\" : 12,\n",
    "    \"apakah_single\" : false\n",
    "}"
   ]
  },
  {
   "cell_type": "code",
   "execution_count": null,
   "id": "df48be05",
   "metadata": {},
   "outputs": [],
   "source": [
    "print(data_orang['nama'])"
   ]
  },
  {
   "cell_type": "code",
   "execution_count": null,
   "id": "1db23f02",
   "metadata": {},
   "outputs": [],
   "source": [
    "print(data_orang['Nama'])"
   ]
  },
  {
   "cell_type": "code",
   "execution_count": null,
   "id": "4cf215c7",
   "metadata": {},
   "outputs": [],
   "source": [
    "print(data_orang.get('nama'))"
   ]
  },
  {
   "cell_type": "code",
   "execution_count": null,
   "id": "1c63a60e",
   "metadata": {},
   "outputs": [],
   "source": [
    "print(data_orang.get('Nama'))"
   ]
  },
  {
   "cell_type": "code",
   "execution_count": null,
   "id": "713ae522",
   "metadata": {},
   "outputs": [],
   "source": [
    "print(data_orang.get('tanggal_lahir'))"
   ]
  },
  {
   "cell_type": "code",
   "execution_count": null,
   "id": "6f57c26e",
   "metadata": {},
   "outputs": [],
   "source": [
    "print(data_orang.get('tanggal_lahir', '2-2-2010'))"
   ]
  },
  {
   "cell_type": "code",
   "execution_count": null,
   "id": "8e86d3d3",
   "metadata": {},
   "outputs": [],
   "source": [
    "print(data_orang)"
   ]
  },
  {
   "cell_type": "code",
   "execution_count": null,
   "id": "7bffbc83",
   "metadata": {},
   "outputs": [],
   "source": [
    "print(data_orang[\"tanggal_lahir\"])"
   ]
  },
  {
   "cell_type": "code",
   "execution_count": null,
   "id": "49221634",
   "metadata": {},
   "outputs": [],
   "source": [
    "data_orang['HP'] = '08123456789'"
   ]
  },
  {
   "cell_type": "code",
   "execution_count": null,
   "id": "0ed3a17c",
   "metadata": {},
   "outputs": [],
   "source": [
    "print(data_orang[\"HP\"])"
   ]
  },
  {
   "cell_type": "code",
   "execution_count": null,
   "id": "8464c8ae",
   "metadata": {},
   "outputs": [],
   "source": [
    "print(data_orang)"
   ]
  },
  {
   "cell_type": "code",
   "execution_count": null,
   "id": "850674a8",
   "metadata": {},
   "outputs": [],
   "source": [
    "angka = {\n",
    "    \"0\" : \"nol\",\n",
    "    \"1\" : \"satu\",\n",
    "    \"2\" : \"dua\",\n",
    "    \"3\" : \"tiga\",\n",
    "    \"4\" : \"empat\",\n",
    "    \"5\" : \"lima\",\n",
    "    \"6\" : \"enam\",\n",
    "    \"7\" : \"tujuh\",\n",
    "    \"8\" : \"delapan\",\n",
    "    \"9\" : \"sembilan\"\n",
    "}"
   ]
  },
  {
   "cell_type": "code",
   "execution_count": null,
   "id": "c93dd9fb",
   "metadata": {},
   "outputs": [],
   "source": [
    "nomor_HP = input(\"Masukan nomor HP anda \")\n",
    "nomor_angka = \"\"\n",
    "for isi in nomor_HP:\n",
    "    nomor_angka += angka.get(isi) + \" \"\n",
    "print(nomor_angka)"
   ]
  },
  {
   "cell_type": "markdown",
   "id": "add1672f",
   "metadata": {},
   "source": [
    "FUNGSI DALAM PHYTON"
   ]
  },
  {
   "cell_type": "code",
   "execution_count": null,
   "id": "305c90e0",
   "metadata": {},
   "outputs": [],
   "source": [
    "def full_name(first_name,last_name):\n",
    "    print(f\"Nama lengkapnya adalah {nama_depan} {nama_belakang}\")"
   ]
  },
  {
   "cell_type": "code",
   "execution_count": null,
   "id": "56fd7e55",
   "metadata": {},
   "outputs": [],
   "source": [
    "first_name = input(\"Nama depan anda adalah \")\n",
    "last_name = input(\"Nama belakang anda adalah \")\n",
    "full_name(nama_depan,nama_belakang)"
   ]
  },
  {
   "cell_type": "code",
   "execution_count": null,
   "id": "9cf093a6",
   "metadata": {},
   "outputs": [],
   "source": []
  },
  {
   "cell_type": "code",
   "execution_count": null,
   "id": "b8df88c3",
   "metadata": {},
   "outputs": [],
   "source": []
  }
 ],
 "metadata": {
  "kernelspec": {
   "display_name": "Python 3 (ipykernel)",
   "language": "python",
   "name": "python3"
  },
  "language_info": {
   "codemirror_mode": {
    "name": "ipython",
    "version": 3
   },
   "file_extension": ".py",
   "mimetype": "text/x-python",
   "name": "python",
   "nbconvert_exporter": "python",
   "pygments_lexer": "ipython3",
   "version": "3.9.7"
  }
 },
 "nbformat": 4,
 "nbformat_minor": 5
}
